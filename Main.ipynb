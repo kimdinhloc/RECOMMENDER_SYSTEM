{
  "cells": [
    {
      "cell_type": "markdown",
      "metadata": {
        "id": "8xTsNmp_dxvg"
      },
      "source": [
        "**NOTEBOOK NÀY ĐÃ CONFIG CÁC PARAMETTERS ĐỂ MÔ HÌNH CHO KẾT QUẢ TỐT NHẤT**"
      ]
    },
    {
      "cell_type": "markdown",
      "metadata": {
        "id": "5dCv9Gf4rgPD"
      },
      "source": [
        "## IMPORT LIBRARY"
      ]
    },
    {
      "cell_type": "code",
      "execution_count": null,
      "metadata": {
        "colab": {
          "base_uri": "https://localhost:8080/"
        },
        "id": "XhhVLaq3rF7b",
        "outputId": "df054bc6-8990-4e13-dc90-cf8af10aadca"
      },
      "outputs": [
        {
          "name": "stdout",
          "output_type": "stream",
          "text": [
            "Collecting pyspark\n",
            "  Downloading pyspark-3.2.1.tar.gz (281.4 MB)\n",
            "\u001b[K     |████████████████████████████████| 281.4 MB 15 kB/s \n",
            "\u001b[?25hCollecting py4j==0.10.9.3\n",
            "  Downloading py4j-0.10.9.3-py2.py3-none-any.whl (198 kB)\n",
            "\u001b[K     |████████████████████████████████| 198 kB 45.4 MB/s \n",
            "\u001b[?25hBuilding wheels for collected packages: pyspark\n",
            "  Building wheel for pyspark (setup.py) ... \u001b[?25l\u001b[?25hdone\n",
            "  Created wheel for pyspark: filename=pyspark-3.2.1-py2.py3-none-any.whl size=281853642 sha256=a1df1a546d75f4014389c15f2dc11958f43c2be99ebc24ec06ec56502a1f28e3\n",
            "  Stored in directory: /root/.cache/pip/wheels/9f/f5/07/7cd8017084dce4e93e84e92efd1e1d5334db05f2e83bcef74f\n",
            "Successfully built pyspark\n",
            "Installing collected packages: py4j, pyspark\n",
            "Successfully installed py4j-0.10.9.3 pyspark-3.2.1\n",
            "Collecting recommenders\n",
            "  Downloading recommenders-1.1.0-py3-none-manylinux1_x86_64.whl (335 kB)\n",
            "\u001b[K     |████████████████████████████████| 335 kB 19.3 MB/s \n",
            "\u001b[?25hRequirement already satisfied: scipy<2,>=1.0.0 in /usr/local/lib/python3.7/dist-packages (from recommenders) (1.4.1)\n",
            "Collecting category-encoders<2,>=1.3.0\n",
            "  Downloading category_encoders-1.3.0-py2.py3-none-any.whl (61 kB)\n",
            "\u001b[K     |████████████████████████████████| 61 kB 6.4 MB/s \n",
            "\u001b[?25hRequirement already satisfied: jinja2<3.1,>=2 in /usr/local/lib/python3.7/dist-packages (from recommenders) (2.11.3)\n",
            "Requirement already satisfied: pandas<2,>1.0.3 in /usr/local/lib/python3.7/dist-packages (from recommenders) (1.3.5)\n",
            "Collecting pandera[strategies]>=0.6.5\n",
            "  Downloading pandera-0.9.0-py3-none-any.whl (197 kB)\n",
            "\u001b[K     |████████████████████████████████| 197 kB 39.4 MB/s \n",
            "\u001b[?25hCollecting transformers<5,>=2.5.0\n",
            "  Downloading transformers-4.18.0-py3-none-any.whl (4.0 MB)\n",
            "\u001b[K     |████████████████████████████████| 4.0 MB 51.8 MB/s \n",
            "\u001b[?25hCollecting memory-profiler<1,>=0.54.0\n",
            "  Downloading memory_profiler-0.60.0.tar.gz (38 kB)\n",
            "Requirement already satisfied: numpy>=1.19 in /usr/local/lib/python3.7/dist-packages (from recommenders) (1.21.5)\n",
            "Requirement already satisfied: lightgbm>=2.2.1 in /usr/local/lib/python3.7/dist-packages (from recommenders) (2.2.3)\n",
            "Requirement already satisfied: bottleneck<2,>=1.2.1 in /usr/local/lib/python3.7/dist-packages (from recommenders) (1.3.4)\n",
            "Collecting retrying>=1.3.3\n",
            "  Downloading retrying-1.3.3.tar.gz (10 kB)\n",
            "Requirement already satisfied: matplotlib<4,>=2.2.2 in /usr/local/lib/python3.7/dist-packages (from recommenders) (3.2.2)\n",
            "Requirement already satisfied: numba<1,>=0.38.1 in /usr/local/lib/python3.7/dist-packages (from recommenders) (0.51.2)\n",
            "Requirement already satisfied: requests<3,>=2.0.0 in /usr/local/lib/python3.7/dist-packages (from recommenders) (2.23.0)\n",
            "Requirement already satisfied: tqdm<5,>=4.31.1 in /usr/local/lib/python3.7/dist-packages (from recommenders) (4.63.0)\n",
            "Requirement already satisfied: seaborn<1,>=0.8.1 in /usr/local/lib/python3.7/dist-packages (from recommenders) (0.11.2)\n",
            "Collecting scikit-surprise>=1.0.6\n",
            "  Downloading scikit-surprise-1.1.1.tar.gz (11.8 MB)\n",
            "\u001b[K     |████████████████████████████████| 11.8 MB 38.1 MB/s \n",
            "\u001b[?25hCollecting nltk<4,>=3.4\n",
            "  Downloading nltk-3.7-py3-none-any.whl (1.5 MB)\n",
            "\u001b[K     |████████████████████████████████| 1.5 MB 38.1 MB/s \n",
            "\u001b[?25hRequirement already satisfied: scikit-learn<1.0.3,>=0.22.1 in /usr/local/lib/python3.7/dist-packages (from recommenders) (1.0.2)\n",
            "Collecting cornac<2,>=1.1.2\n",
            "  Downloading cornac-1.14.2-cp37-cp37m-manylinux1_x86_64.whl (12.4 MB)\n",
            "\u001b[K     |████████████████████████████████| 12.4 MB 43.9 MB/s \n",
            "\u001b[?25hCollecting lightfm<2,>=1.15\n",
            "  Downloading lightfm-1.16.tar.gz (310 kB)\n",
            "\u001b[K     |████████████████████████████████| 310 kB 46.1 MB/s \n",
            "\u001b[?25hCollecting pyyaml<6,>=5.4.1\n",
            "  Downloading PyYAML-5.4.1-cp37-cp37m-manylinux1_x86_64.whl (636 kB)\n",
            "\u001b[K     |████████████████████████████████| 636 kB 37.0 MB/s \n",
            "\u001b[?25hRequirement already satisfied: patsy>=0.4.1 in /usr/local/lib/python3.7/dist-packages (from category-encoders<2,>=1.3.0->recommenders) (0.5.2)\n",
            "Requirement already satisfied: statsmodels>=0.6.1 in /usr/local/lib/python3.7/dist-packages (from category-encoders<2,>=1.3.0->recommenders) (0.10.2)\n",
            "Collecting powerlaw\n",
            "  Downloading powerlaw-1.5-py3-none-any.whl (24 kB)\n",
            "Requirement already satisfied: MarkupSafe>=0.23 in /usr/local/lib/python3.7/dist-packages (from jinja2<3.1,>=2->recommenders) (2.0.1)\n",
            "Requirement already satisfied: cycler>=0.10 in /usr/local/lib/python3.7/dist-packages (from matplotlib<4,>=2.2.2->recommenders) (0.11.0)\n",
            "Requirement already satisfied: pyparsing!=2.0.4,!=2.1.2,!=2.1.6,>=2.0.1 in /usr/local/lib/python3.7/dist-packages (from matplotlib<4,>=2.2.2->recommenders) (3.0.7)\n",
            "Requirement already satisfied: kiwisolver>=1.0.1 in /usr/local/lib/python3.7/dist-packages (from matplotlib<4,>=2.2.2->recommenders) (1.4.0)\n",
            "Requirement already satisfied: python-dateutil>=2.1 in /usr/local/lib/python3.7/dist-packages (from matplotlib<4,>=2.2.2->recommenders) (2.8.2)\n",
            "Requirement already satisfied: typing-extensions in /usr/local/lib/python3.7/dist-packages (from kiwisolver>=1.0.1->matplotlib<4,>=2.2.2->recommenders) (3.10.0.2)\n",
            "Requirement already satisfied: psutil in /usr/local/lib/python3.7/dist-packages (from memory-profiler<1,>=0.54.0->recommenders) (5.4.8)\n",
            "Requirement already satisfied: click in /usr/local/lib/python3.7/dist-packages (from nltk<4,>=3.4->recommenders) (7.1.2)\n",
            "Requirement already satisfied: joblib in /usr/local/lib/python3.7/dist-packages (from nltk<4,>=3.4->recommenders) (1.1.0)\n",
            "Collecting regex>=2021.8.3\n",
            "  Downloading regex-2022.3.15-cp37-cp37m-manylinux_2_17_x86_64.manylinux2014_x86_64.whl (749 kB)\n",
            "\u001b[K     |████████████████████████████████| 749 kB 51.2 MB/s \n",
            "\u001b[?25hRequirement already satisfied: setuptools in /usr/local/lib/python3.7/dist-packages (from numba<1,>=0.38.1->recommenders) (57.4.0)\n",
            "Requirement already satisfied: llvmlite<0.35,>=0.34.0.dev0 in /usr/local/lib/python3.7/dist-packages (from numba<1,>=0.38.1->recommenders) (0.34.0)\n",
            "Requirement already satisfied: pytz>=2017.3 in /usr/local/lib/python3.7/dist-packages (from pandas<2,>1.0.3->recommenders) (2018.9)\n",
            "Requirement already satisfied: pyarrow in /usr/local/lib/python3.7/dist-packages (from pandera[strategies]>=0.6.5->recommenders) (6.0.1)\n",
            "Requirement already satisfied: packaging>=20.0 in /usr/local/lib/python3.7/dist-packages (from pandera[strategies]>=0.6.5->recommenders) (21.3)\n",
            "Collecting pydantic\n",
            "  Downloading pydantic-1.9.0-cp37-cp37m-manylinux_2_17_x86_64.manylinux2014_x86_64.whl (10.9 MB)\n",
            "\u001b[K     |████████████████████████████████| 10.9 MB 17.9 MB/s \n",
            "\u001b[?25hCollecting typing-inspect>=0.6.0\n",
            "  Downloading typing_inspect-0.7.1-py3-none-any.whl (8.4 kB)\n",
            "Requirement already satisfied: wrapt in /usr/local/lib/python3.7/dist-packages (from pandera[strategies]>=0.6.5->recommenders) (1.14.0)\n",
            "Collecting hypothesis>=5.41.1\n",
            "  Downloading hypothesis-6.43.0-py3-none-any.whl (381 kB)\n",
            "\u001b[K     |████████████████████████████████| 381 kB 40.8 MB/s \n",
            "\u001b[?25hRequirement already satisfied: attrs>=19.2.0 in /usr/local/lib/python3.7/dist-packages (from hypothesis>=5.41.1->pandera[strategies]>=0.6.5->recommenders) (21.4.0)\n",
            "Requirement already satisfied: sortedcontainers<3.0.0,>=2.1.0 in /usr/local/lib/python3.7/dist-packages (from hypothesis>=5.41.1->pandera[strategies]>=0.6.5->recommenders) (2.4.0)\n",
            "Requirement already satisfied: six in /usr/local/lib/python3.7/dist-packages (from patsy>=0.4.1->category-encoders<2,>=1.3.0->recommenders) (1.15.0)\n",
            "Requirement already satisfied: certifi>=2017.4.17 in /usr/local/lib/python3.7/dist-packages (from requests<3,>=2.0.0->recommenders) (2021.10.8)\n",
            "Requirement already satisfied: urllib3!=1.25.0,!=1.25.1,<1.26,>=1.21.1 in /usr/local/lib/python3.7/dist-packages (from requests<3,>=2.0.0->recommenders) (1.24.3)\n",
            "Requirement already satisfied: idna<3,>=2.5 in /usr/local/lib/python3.7/dist-packages (from requests<3,>=2.0.0->recommenders) (2.10)\n",
            "Requirement already satisfied: chardet<4,>=3.0.2 in /usr/local/lib/python3.7/dist-packages (from requests<3,>=2.0.0->recommenders) (3.0.4)\n",
            "Requirement already satisfied: threadpoolctl>=2.0.0 in /usr/local/lib/python3.7/dist-packages (from scikit-learn<1.0.3,>=0.22.1->recommenders) (3.1.0)\n",
            "Collecting tokenizers!=0.11.3,<0.13,>=0.11.1\n",
            "  Downloading tokenizers-0.11.6-cp37-cp37m-manylinux_2_12_x86_64.manylinux2010_x86_64.whl (6.5 MB)\n",
            "\u001b[K     |████████████████████████████████| 6.5 MB 40.8 MB/s \n",
            "\u001b[?25hCollecting huggingface-hub<1.0,>=0.1.0\n",
            "  Downloading huggingface_hub-0.5.1-py3-none-any.whl (77 kB)\n",
            "\u001b[K     |████████████████████████████████| 77 kB 5.0 MB/s \n",
            "\u001b[?25hRequirement already satisfied: importlib-metadata in /usr/local/lib/python3.7/dist-packages (from transformers<5,>=2.5.0->recommenders) (4.11.3)\n",
            "Collecting sacremoses\n",
            "  Downloading sacremoses-0.0.49-py3-none-any.whl (895 kB)\n",
            "\u001b[K     |████████████████████████████████| 895 kB 32.5 MB/s \n",
            "\u001b[?25hRequirement already satisfied: filelock in /usr/local/lib/python3.7/dist-packages (from transformers<5,>=2.5.0->recommenders) (3.6.0)\n",
            "Collecting mypy-extensions>=0.3.0\n",
            "  Downloading mypy_extensions-0.4.3-py2.py3-none-any.whl (4.5 kB)\n",
            "Requirement already satisfied: zipp>=0.5 in /usr/local/lib/python3.7/dist-packages (from importlib-metadata->transformers<5,>=2.5.0->recommenders) (3.7.0)\n",
            "Requirement already satisfied: mpmath in /usr/local/lib/python3.7/dist-packages (from powerlaw->cornac<2,>=1.1.2->recommenders) (1.2.1)\n",
            "Building wheels for collected packages: lightfm, memory-profiler, retrying, scikit-surprise\n",
            "  Building wheel for lightfm (setup.py) ... \u001b[?25l\u001b[?25hdone\n",
            "  Created wheel for lightfm: filename=lightfm-1.16-cp37-cp37m-linux_x86_64.whl size=705358 sha256=bc60f3c86fc1c9d8aaa0673bb69762be9e57fcd1a8ddec7c63546bd5b8fc4f62\n",
            "  Stored in directory: /root/.cache/pip/wheels/f8/56/28/5772a3bd3413d65f03aa452190b00898b680b10028a1021914\n",
            "  Building wheel for memory-profiler (setup.py) ... \u001b[?25l\u001b[?25hdone\n",
            "  Created wheel for memory-profiler: filename=memory_profiler-0.60.0-py3-none-any.whl size=31284 sha256=9e5edd0d1f28d707c907772e0546631e2ebc4a8e198e4b277fcf3a0bf58c70bd\n",
            "  Stored in directory: /root/.cache/pip/wheels/67/2b/fb/326e30d638c538e69a5eb0aa47f4223d979f502bbdb403950f\n",
            "  Building wheel for retrying (setup.py) ... \u001b[?25l\u001b[?25hdone\n",
            "  Created wheel for retrying: filename=retrying-1.3.3-py3-none-any.whl size=11447 sha256=09664e99b64d3a679d76384256e57f317040cf85043a5a78e6ba9037b41877ff\n",
            "  Stored in directory: /root/.cache/pip/wheels/f9/8d/8d/f6af3f7f9eea3553bc2fe6d53e4b287dad18b06a861ac56ddf\n",
            "  Building wheel for scikit-surprise (setup.py) ... \u001b[?25l\u001b[?25hdone\n",
            "  Created wheel for scikit-surprise: filename=scikit_surprise-1.1.1-cp37-cp37m-linux_x86_64.whl size=1630180 sha256=871dd98a005f5ff080b532909f08bfb601260dac4832fc3efa2f5c8bde502219\n",
            "  Stored in directory: /root/.cache/pip/wheels/76/44/74/b498c42be47b2406bd27994e16c5188e337c657025ab400c1c\n",
            "Successfully built lightfm memory-profiler retrying scikit-surprise\n",
            "Installing collected packages: mypy-extensions, typing-inspect, regex, pyyaml, pydantic, tokenizers, sacremoses, powerlaw, pandera, hypothesis, huggingface-hub, transformers, scikit-surprise, retrying, nltk, memory-profiler, lightfm, cornac, category-encoders, recommenders\n",
            "  Attempting uninstall: regex\n",
            "    Found existing installation: regex 2019.12.20\n",
            "    Uninstalling regex-2019.12.20:\n",
            "      Successfully uninstalled regex-2019.12.20\n",
            "  Attempting uninstall: pyyaml\n",
            "    Found existing installation: PyYAML 3.13\n",
            "    Uninstalling PyYAML-3.13:\n",
            "      Successfully uninstalled PyYAML-3.13\n",
            "  Attempting uninstall: nltk\n",
            "    Found existing installation: nltk 3.2.5\n",
            "    Uninstalling nltk-3.2.5:\n",
            "      Successfully uninstalled nltk-3.2.5\n",
            "Successfully installed category-encoders-1.3.0 cornac-1.14.2 huggingface-hub-0.5.1 hypothesis-6.43.0 lightfm-1.16 memory-profiler-0.60.0 mypy-extensions-0.4.3 nltk-3.7 pandera-0.9.0 powerlaw-1.5 pydantic-1.9.0 pyyaml-5.4.1 recommenders-1.1.0 regex-2022.3.15 retrying-1.3.3 sacremoses-0.0.49 scikit-surprise-1.1.1 tokenizers-0.11.6 transformers-4.18.0 typing-inspect-0.7.1\n",
            "Collecting surprise\n",
            "  Downloading surprise-0.1-py2.py3-none-any.whl (1.8 kB)\n",
            "Requirement already satisfied: scikit-surprise in /usr/local/lib/python3.7/dist-packages (from surprise) (1.1.1)\n",
            "Requirement already satisfied: joblib>=0.11 in /usr/local/lib/python3.7/dist-packages (from scikit-surprise->surprise) (1.1.0)\n",
            "Requirement already satisfied: six>=1.10.0 in /usr/local/lib/python3.7/dist-packages (from scikit-surprise->surprise) (1.15.0)\n",
            "Requirement already satisfied: scipy>=1.0.0 in /usr/local/lib/python3.7/dist-packages (from scikit-surprise->surprise) (1.4.1)\n",
            "Requirement already satisfied: numpy>=1.11.2 in /usr/local/lib/python3.7/dist-packages (from scikit-surprise->surprise) (1.21.5)\n",
            "Installing collected packages: surprise\n",
            "Successfully installed surprise-0.1\n"
          ]
        }
      ],
      "source": [
        "!pip install pyspark\n",
        "!pip install recommenders\n",
        "!pip install surprise\n",
        "from pyspark import SparkContext\n",
        "from pyspark import SparkConf\n",
        "from pyspark.sql import SparkSession, Row\n",
        "from pyspark.mllib.recommendation import ALS, MatrixFactorizationModel, Rating\n",
        "import numpy as np\n",
        "import pandas as pd\n",
        "import zipfile\n",
        "import math\n",
        "from recommenders.evaluation.python_evaluation import ndcg_at_k\n",
        "from surprise.model_selection.split import LeaveOneOut"
      ]
    },
    {
      "cell_type": "markdown",
      "metadata": {
        "id": "xvS9WOYC0_tg"
      },
      "source": [
        "## MOVIELENS 100K, 1M, 10M RECORD.\n",
        "\n"
      ]
    },
    {
      "cell_type": "code",
      "execution_count": null,
      "metadata": {
        "colab": {
          "base_uri": "https://localhost:8080/"
        },
        "id": "Dj_KCYFf1cjL",
        "outputId": "bdb0fe79-cb5d-4a5f-d2d0-abcc8dd3af0a"
      },
      "outputs": [
        {
          "name": "stdout",
          "output_type": "stream",
          "text": [
            "--2022-04-12 10:59:21--  https://files.grouplens.org/datasets/movielens/ml-1m.zip\n",
            "Resolving files.grouplens.org (files.grouplens.org)... 128.101.65.152\n",
            "Connecting to files.grouplens.org (files.grouplens.org)|128.101.65.152|:443... connected.\n",
            "HTTP request sent, awaiting response... 200 OK\n",
            "Length: 5917549 (5.6M) [application/zip]\n",
            "Saving to: ‘ml-1m.zip’\n",
            "\n",
            "ml-1m.zip           100%[===================>]   5.64M  26.9MB/s    in 0.2s    \n",
            "\n",
            "2022-04-12 10:59:22 (26.9 MB/s) - ‘ml-1m.zip’ saved [5917549/5917549]\n",
            "\n",
            "--2022-04-12 10:59:22--  https://files.grouplens.org/datasets/movielens/ml-10m.zip\n",
            "Resolving files.grouplens.org (files.grouplens.org)... 128.101.65.152\n",
            "Connecting to files.grouplens.org (files.grouplens.org)|128.101.65.152|:443... connected.\n",
            "HTTP request sent, awaiting response... 200 OK\n",
            "Length: 65566137 (63M) [application/zip]\n",
            "Saving to: ‘ml-10m.zip’\n",
            "\n",
            "ml-10m.zip          100%[===================>]  62.53M  77.5MB/s    in 0.8s    \n",
            "\n",
            "2022-04-12 10:59:23 (77.5 MB/s) - ‘ml-10m.zip’ saved [65566137/65566137]\n",
            "\n",
            "--2022-04-12 10:59:23--  https://files.grouplens.org/datasets/movielens/ml-100k.zip\n",
            "Resolving files.grouplens.org (files.grouplens.org)... 128.101.65.152\n",
            "Connecting to files.grouplens.org (files.grouplens.org)|128.101.65.152|:443... connected.\n",
            "HTTP request sent, awaiting response... 200 OK\n",
            "Length: 4924029 (4.7M) [application/zip]\n",
            "Saving to: ‘ml-100k.zip’\n",
            "\n",
            "ml-100k.zip         100%[===================>]   4.70M  25.2MB/s    in 0.2s    \n",
            "\n",
            "2022-04-12 10:59:23 (25.2 MB/s) - ‘ml-100k.zip’ saved [4924029/4924029]\n",
            "\n"
          ]
        }
      ],
      "source": [
        "!wget https://files.grouplens.org/datasets/movielens/ml-1m.zip\n",
        "!wget https://files.grouplens.org/datasets/movielens/ml-10m.zip\n",
        "!wget https://files.grouplens.org/datasets/movielens/ml-100k.zip"
      ]
    },
    {
      "cell_type": "code",
      "execution_count": null,
      "metadata": {
        "id": "b9Jh5s371cgR"
      },
      "outputs": [],
      "source": [
        "with zipfile.ZipFile(\"/content/ml-1m.zip\", 'r') as zip_ref:\n",
        "    zip_ref.extractall(\"/content/MOVIE\")\n",
        "with zipfile.ZipFile(\"/content/ml-10m.zip\", 'r') as zip_ref:\n",
        "    zip_ref.extractall(\"/content/MOVIE\")\n",
        "with zipfile.ZipFile(\"/content/ml-100k.zip\", 'r') as zip_ref:\n",
        "    zip_ref.extractall(\"/content/MOVIE\")"
      ]
    },
    {
      "cell_type": "markdown",
      "metadata": {
        "id": "a38_iI325QzJ"
      },
      "source": [
        "## MovieLens 1M ratings\n",
        "\n",
        "\n"
      ]
    },
    {
      "cell_type": "markdown",
      "metadata": {
        "id": "G8qbdJaNl42t"
      },
      "source": [
        "### Ratings"
      ]
    },
    {
      "cell_type": "code",
      "execution_count": null,
      "metadata": {
        "id": "nZClIDfOhQn9"
      },
      "outputs": [],
      "source": [
        "sc = SparkContext.getOrCreate(SparkConf().setMaster(\"local[*]\"))\n",
        "ratings_data=sc.textFile(\"/content/MOVIE/ml-1m/ratings.dat\")"
      ]
    },
    {
      "cell_type": "code",
      "execution_count": null,
      "metadata": {
        "colab": {
          "base_uri": "https://localhost:8080/"
        },
        "id": "OQQYxUvGhQl5",
        "outputId": "033a145a-c562-4da2-b5e6-ab6d471f3598"
      },
      "outputs": [
        {
          "data": {
            "text/plain": [
              "['1::1193::5::978300760']"
            ]
          },
          "execution_count": 5,
          "metadata": {},
          "output_type": "execute_result"
        }
      ],
      "source": [
        "ratings_data.take(1)"
      ]
    },
    {
      "cell_type": "code",
      "execution_count": null,
      "metadata": {
        "id": "KpiS1eGvhQjV"
      },
      "outputs": [],
      "source": [
        "ratings=ratings_data.map(lambda line: line.split(\"::\")).map(lambda tokens: (tokens[0],tokens[1],tokens[2])).cache()"
      ]
    },
    {
      "cell_type": "code",
      "execution_count": null,
      "metadata": {
        "colab": {
          "base_uri": "https://localhost:8080/"
        },
        "id": "6Iz9vQ9LmLC8",
        "outputId": "1155d0e8-5eee-4e80-9b3f-820c38cf798b"
      },
      "outputs": [
        {
          "data": {
            "text/plain": [
              "[('1', '1193', '5')]"
            ]
          },
          "execution_count": 7,
          "metadata": {},
          "output_type": "execute_result"
        }
      ],
      "source": [
        "ratings.take(1)"
      ]
    },
    {
      "cell_type": "markdown",
      "metadata": {
        "id": "epGacjbwl7W3"
      },
      "source": [
        "### Movies"
      ]
    },
    {
      "cell_type": "code",
      "execution_count": null,
      "metadata": {
        "id": "RCCcDTKol28E"
      },
      "outputs": [],
      "source": [
        "movies_data=sc.textFile(\"/content/MOVIE/ml-1m/movies.dat\")"
      ]
    },
    {
      "cell_type": "code",
      "execution_count": null,
      "metadata": {
        "colab": {
          "base_uri": "https://localhost:8080/"
        },
        "id": "x93xkUXshQZM",
        "outputId": "c9a2a081-3f4d-42b0-bf16-565e6d7207b6"
      },
      "outputs": [
        {
          "data": {
            "text/plain": [
              "[\"1::Toy Story (1995)::Animation|Children's|Comedy\"]"
            ]
          },
          "execution_count": 9,
          "metadata": {},
          "output_type": "execute_result"
        }
      ],
      "source": [
        "movies_data.take(1)"
      ]
    },
    {
      "cell_type": "code",
      "execution_count": null,
      "metadata": {
        "id": "l_0qoytUlW0W"
      },
      "outputs": [],
      "source": [
        "movies=movies_data.map(lambda line: line.split(\"::\")).map(lambda tokens: (tokens[0],tokens[1],tokens[2])).cache()"
      ]
    },
    {
      "cell_type": "code",
      "execution_count": null,
      "metadata": {
        "colab": {
          "base_uri": "https://localhost:8080/"
        },
        "id": "0wtposl-lWxm",
        "outputId": "90aec872-2615-44d4-a94d-a1915c7ce1df"
      },
      "outputs": [
        {
          "data": {
            "text/plain": [
              "[('1', 'Toy Story (1995)', \"Animation|Children's|Comedy\")]"
            ]
          },
          "execution_count": 11,
          "metadata": {},
          "output_type": "execute_result"
        }
      ],
      "source": [
        "movies.take(1)"
      ]
    },
    {
      "cell_type": "markdown",
      "metadata": {
        "id": "TTsAvGcPmmGW"
      },
      "source": [
        "### Users"
      ]
    },
    {
      "cell_type": "code",
      "execution_count": null,
      "metadata": {
        "id": "mSxI4iZDmWCU"
      },
      "outputs": [],
      "source": [
        "users_data=sc.textFile(\"/content/MOVIE/ml-1m/users.dat\")"
      ]
    },
    {
      "cell_type": "code",
      "execution_count": null,
      "metadata": {
        "colab": {
          "base_uri": "https://localhost:8080/"
        },
        "id": "k4CfqhBTlWvF",
        "outputId": "2b41af46-3adf-41cc-d00d-2a2fab343f39"
      },
      "outputs": [
        {
          "data": {
            "text/plain": [
              "['1::F::1::10::48067']"
            ]
          },
          "execution_count": 13,
          "metadata": {},
          "output_type": "execute_result"
        }
      ],
      "source": [
        "users_data.take(1)"
      ]
    },
    {
      "cell_type": "code",
      "execution_count": null,
      "metadata": {
        "id": "-r61wFejlWsY"
      },
      "outputs": [],
      "source": [
        "users=users_data.map(lambda line: line.split(\"::\")).map(lambda tokens: (tokens[0],tokens[1],tokens[2],tokens[3],tokens[4])).cache()"
      ]
    },
    {
      "cell_type": "code",
      "execution_count": null,
      "metadata": {
        "colab": {
          "base_uri": "https://localhost:8080/"
        },
        "id": "mzjLRTXglWp0",
        "outputId": "6c35d9f3-a21e-42aa-bb33-f24e009977f3"
      },
      "outputs": [
        {
          "data": {
            "text/plain": [
              "[('1', 'F', '1', '10', '48067')]"
            ]
          },
          "execution_count": 15,
          "metadata": {},
          "output_type": "execute_result"
        }
      ],
      "source": [
        "users.take(1)"
      ]
    },
    {
      "cell_type": "markdown",
      "metadata": {
        "id": "e3VWw_UV-7Ur"
      },
      "source": [
        "### RECOMMENDER SYSTEM"
      ]
    },
    {
      "cell_type": "code",
      "execution_count": null,
      "metadata": {
        "id": "RPG3S_AJfw-d"
      },
      "outputs": [],
      "source": [
        "train, test = ratings.randomSplit([7, 3], seed=0)\n",
        "train_for_prdict=train.map(lambda x: ((x[0],x[1]),x[2]))\n",
        "test_for_predict=test.map(lambda x: (x[0], x[1]))"
      ]
    },
    {
      "cell_type": "code",
      "execution_count": null,
      "metadata": {
        "colab": {
          "base_uri": "https://localhost:8080/"
        },
        "id": "6nDptM-kIXs7",
        "outputId": "8880903f-d414-4dab-dbb8-f7f826e61115"
      },
      "outputs": [
        {
          "data": {
            "text/plain": [
              "[('1', '1193', '5')]"
            ]
          },
          "execution_count": 17,
          "metadata": {},
          "output_type": "execute_result"
        }
      ],
      "source": [
        "train.take(1)"
      ]
    },
    {
      "cell_type": "code",
      "execution_count": null,
      "metadata": {
        "colab": {
          "base_uri": "https://localhost:8080/"
        },
        "id": "u0wn86IyJNEE",
        "outputId": "b48ca6bf-2d56-471b-ecdd-a28f43ae6887"
      },
      "outputs": [
        {
          "data": {
            "text/plain": [
              "[('1', '914')]"
            ]
          },
          "execution_count": 18,
          "metadata": {},
          "output_type": "execute_result"
        }
      ],
      "source": [
        "test_for_predict.take(1)"
      ]
    },
    {
      "cell_type": "markdown",
      "metadata": {
        "id": "k0lUBYD7117R"
      },
      "source": [
        "Ranks: số lượng feature sẽ sử dụng.  \n",
        "lambda:  tham số chính quy hóa trong ALS.  \n",
        "interations: số lần lặp lại ALS sẽ chạy. Thường bé hơn hoặc bằng 20."
      ]
    },
    {
      "cell_type": "markdown",
      "metadata": {
        "id": "_TcDfSEiOnpq"
      },
      "source": [
        "#### COMPLETED MODEL"
      ]
    },
    {
      "cell_type": "markdown",
      "metadata": {
        "id": "OS5s7F--QRoy"
      },
      "source": [
        "##### RMSE"
      ]
    },
    {
      "cell_type": "code",
      "execution_count": null,
      "metadata": {
        "colab": {
          "base_uri": "https://localhost:8080/"
        },
        "id": "j2zmXNYYOt3y",
        "outputId": "2568a205-7909-4090-a738-a1fa9847a6da"
      },
      "outputs": [
        {
          "name": "stdout",
          "output_type": "stream",
          "text": [
            "(iterations 20, rank 7, lambda 0.05): The RMSE is 0.8624043509387181\n"
          ]
        }
      ],
      "source": [
        "seed = 1\n",
        "model = ALS.train(train, rank=7, seed=1, iterations=20,lambda_=0.05)\n",
        "predictions = model.predictAll(test_for_predict)\n",
        "rates_and_preds = test.map(lambda r: ((int(r[0]), int(r[1])), float(r[2]))).join(predictions.map(lambda r: ((r[0], r[1]), r[2])))\n",
        "RMSE_error = math.sqrt(rates_and_preds.map(lambda r: (r[1][0] - r[1][1])**2).mean())\n",
        "print('(iterations 20, rank 7, lambda 0.05): The RMSE is %s' % (RMSE_error))\n",
        "\n",
        "\n"
      ]
    },
    {
      "cell_type": "markdown",
      "metadata": {
        "id": "slv56ZPzQdDT"
      },
      "source": [
        "##### NDCG "
      ]
    },
    {
      "cell_type": "code",
      "execution_count": null,
      "metadata": {
        "colab": {
          "base_uri": "https://localhost:8080/"
        },
        "id": "NGfRXSF0QmOr",
        "outputId": "7c0ce95b-4dc6-4787-c451-eb3ffd403443"
      },
      "outputs": [
        {
          "name": "stdout",
          "output_type": "stream",
          "text": [
            "(iterations 20, rank 10, lambda 0.15): The NDCG is 0.9999259423752931\n"
          ]
        }
      ],
      "source": [
        "test_df=pd.DataFrame(data=test.collect(),columns=[\"userID\",\"itemID\",\"rating\"])\n",
        "test_df['rating'] = test_df['rating'].astype(float, errors = 'raise')\n",
        "test_df['userID'] = test_df['userID'].astype(int, errors = 'raise')\n",
        "test_df['itemID'] = test_df['itemID'].astype(int, errors = 'raise')\n",
        "model = ALS.train(train, rank=10, seed=1, iterations=20,lambda_=0.15)\n",
        "predictions = model.predictAll(test_for_predict)\n",
        "rates_and_preds = test.map(lambda r: ((int(r[0]), int(r[1])), float(r[2]))).join(predictions.map(lambda r: ((r[0], r[1]), r[2])))\n",
        "predict_df=pd.DataFrame(data=predictions.collect(),columns=[\"userID\",\"itemID\",\"prediction\"])\n",
        "predict_df['prediction'] = predict_df['prediction'].astype(float, errors = 'raise')\n",
        "predict_df['userID'] = predict_df['userID'].astype(int, errors = 'raise')\n",
        "predict_df['itemID'] = predict_df['itemID'].astype(int, errors = 'raise')\n",
        "\n",
        "NDCG_error=ndcg_at_k(test_df,predict_df)\n",
        "print('(iterations 20, rank 10, lambda 0.15): The NDCG is %s' % (NDCG_error))"
      ]
    },
    {
      "cell_type": "markdown",
      "metadata": {
        "id": "5Sj8it9iQYWD"
      },
      "source": [
        "##### HIT RATE"
      ]
    },
    {
      "cell_type": "markdown",
      "metadata": {
        "id": "sLD9UWOFQzxs"
      },
      "source": [
        "#### REVIEWS"
      ]
    },
    {
      "cell_type": "markdown",
      "metadata": {
        "id": "a84CrSPNQ93k"
      },
      "source": [
        "Tuỳ theo từng độ đo mà interations rank và lambda được gán với giá trị khác nhau"
      ]
    },
    {
      "cell_type": "markdown",
      "metadata": {
        "id": "8hXjq_QMRKya"
      },
      "source": [
        "### Sparsity data [MovieLens 100K ratings]\n"
      ]
    },
    {
      "cell_type": "markdown",
      "metadata": {
        "id": "gLd-v-zrUpdz"
      },
      "source": [
        "Tương tự Mean Square Erorr thì ta sử dụng MAE(Mean Absolute Error) để làm tiêu chuẩn độ đo cho câu hỏi này.\n"
      ]
    },
    {
      "cell_type": "markdown",
      "metadata": {
        "id": "VvS2QLRgSTrD"
      },
      "source": [
        "u.data ở đây chứa 100000 ratings bởi 943 users với 1682 items gồm 4 cột:  \n",
        "user id | item id | rating | timestamp.  \n",
        "Chúng ta sẽ lấy 3 cột đầu và bỏ cột cuối cùng."
      ]
    },
    {
      "cell_type": "code",
      "execution_count": null,
      "metadata": {
        "id": "GLlhqQvUXTXC"
      },
      "outputs": [],
      "source": [
        "sc = SparkContext.getOrCreate(SparkConf().setMaster(\"local[*]\"))\n",
        "ratings_data=sc.textFile(\"/content/MOVIE/ml-100k/u.data\")\n",
        "ratings=ratings_data.map(lambda line: line.split(\"\\t\")).map(lambda tokens: (int(tokens[0]),int(tokens[1]),int(tokens[2]))).cache()\n",
        "train, test = ratings.randomSplit([7, 3], seed=0)\n",
        "train_for_prdict=train.map(lambda x: ((x[0],x[1]),x[2]))\n",
        "test_for_predict=test.map(lambda x: (x[0], x[1]))"
      ]
    },
    {
      "cell_type": "code",
      "execution_count": null,
      "metadata": {
        "colab": {
          "base_uri": "https://localhost:8080/"
        },
        "id": "vGJfxw_4DQ6p",
        "outputId": "0c89e32d-84f8-4f78-97b1-c983a896b9c8"
      },
      "outputs": [
        {
          "name": "stdout",
          "output_type": "stream",
          "text": [
            "(iterations 20, rank 3, lambda 0.05): The best MAE is 0.7354813932904432\n"
          ]
        }
      ],
      "source": [
        "\n",
        "seed = 1\n",
        "model = ALS.train(train, rank=3, seed=1, iterations=20,lambda_=0.05)\n",
        "predictions = model.predictAll(test_for_predict)\n",
        "rates_and_preds = test.map(lambda r: ((int(r[0]), int(r[1])), float(r[2]))).join(predictions.map(lambda r: ((r[0], r[1]), r[2])))\n",
        "\n",
        "MAE_error = rates_and_preds.map(lambda r: np.abs(r[1][0] - r[1][1])).sum()/len(rates_and_preds.collect())\n",
        "print('(iterations 20, rank 3, lambda 0.05): The best MAE is %s' % (MAE_error))"
      ]
    },
    {
      "cell_type": "markdown",
      "metadata": {
        "id": "z4ztodva9-yz"
      },
      "source": [
        "### Bigger data [MovieLens 10M ratings]"
      ]
    },
    {
      "cell_type": "markdown",
      "metadata": {
        "id": "K9SBN3hU9uD0"
      },
      "source": [
        "#### Ratings"
      ]
    },
    {
      "cell_type": "markdown",
      "metadata": {
        "id": "TQyxBVF6tKwI"
      },
      "source": [
        "Dựa trên những dữ liệu trước ta thấy hầu như iterations = 20 là tốt nhất. Nên ở đây chúng ta chỉ cần tìm lambda và rank để tránh mất quá nhiều thời gian vì dữ liệu lớn hơn trước gấp 10 lần. Thời gian train sẽ tăng lên ít nhất 10*k lần so với 1M ratings ( Hiện tại để train 7M ratings thì cần hơn 6 tiếng nhưng vẫn chưa hoàn thành).\n",
        "\n",
        "**Do đó ta quyết định rời rạc hoá dữ liệu: Tức là giảm bớt số lượng ratings đi ít nhất 30% mà vẫn đảm bảo số lượng người đã ratings không thay đổi**"
      ]
    },
    {
      "cell_type": "code",
      "execution_count": null,
      "metadata": {
        "id": "RLC7_F2Y9uD1"
      },
      "outputs": [],
      "source": [
        "sc = SparkContext.getOrCreate(SparkConf().setMaster(\"local[*]\"))\n",
        "ratings_data=sc.textFile(\"/content/MOVIE/ml-10M100K/ratings.dat\")\n",
        "ratings=ratings_data.map(lambda line: line.split(\"::\")).map(lambda tokens: (int(tokens[0]),int(tokens[1]),float(tokens[2])))"
      ]
    },
    {
      "cell_type": "code",
      "execution_count": null,
      "metadata": {
        "id": "fICMZnNEC_md"
      },
      "outputs": [],
      "source": [
        "df = pd.DataFrame(data=ratings.collect(),columns=[\"userId\",\"movieId\",\"ratings\"])\n",
        "np.random.seed(1)\n",
        "dictUser=dict(df.userId.value_counts())\n",
        "count=0\n",
        "listIndex=[]\n",
        "for index in np.random.choice(range(0,10000000),size=8000000,replace=False):\n",
        "      User_id=df.loc[int(index)].userId\n",
        "      if(dictUser[User_id]>30):\n",
        "        dictUser[User_id]=dictUser[User_id] - 1\n",
        "        count = count + 1\n",
        "        listIndex.append(index)"
      ]
    },
    {
      "cell_type": "code",
      "execution_count": null,
      "metadata": {
        "id": "N4SU8ttfk3Bm"
      },
      "outputs": [],
      "source": [
        "df=df.drop(listIndex)"
      ]
    },
    {
      "cell_type": "code",
      "execution_count": null,
      "metadata": {
        "colab": {
          "base_uri": "https://localhost:8080/",
          "height": 423
        },
        "id": "mwRPFigy3G_n",
        "outputId": "376b7b85-cdb0-4d16-8a06-7ed7569d5aa1"
      },
      "outputs": [
        {
          "data": {
            "text/html": [
              "\n",
              "  <div id=\"df-4264323c-f0f1-4c20-89f7-00411b6b5202\">\n",
              "    <div class=\"colab-df-container\">\n",
              "      <div>\n",
              "<style scoped>\n",
              "    .dataframe tbody tr th:only-of-type {\n",
              "        vertical-align: middle;\n",
              "    }\n",
              "\n",
              "    .dataframe tbody tr th {\n",
              "        vertical-align: top;\n",
              "    }\n",
              "\n",
              "    .dataframe thead th {\n",
              "        text-align: right;\n",
              "    }\n",
              "</style>\n",
              "<table border=\"1\" class=\"dataframe\">\n",
              "  <thead>\n",
              "    <tr style=\"text-align: right;\">\n",
              "      <th></th>\n",
              "      <th>userId</th>\n",
              "      <th>movieId</th>\n",
              "      <th>ratings</th>\n",
              "    </tr>\n",
              "  </thead>\n",
              "  <tbody>\n",
              "    <tr>\n",
              "      <th>0</th>\n",
              "      <td>1</td>\n",
              "      <td>122</td>\n",
              "      <td>5.0</td>\n",
              "    </tr>\n",
              "    <tr>\n",
              "      <th>1</th>\n",
              "      <td>1</td>\n",
              "      <td>185</td>\n",
              "      <td>5.0</td>\n",
              "    </tr>\n",
              "    <tr>\n",
              "      <th>2</th>\n",
              "      <td>1</td>\n",
              "      <td>231</td>\n",
              "      <td>5.0</td>\n",
              "    </tr>\n",
              "    <tr>\n",
              "      <th>3</th>\n",
              "      <td>1</td>\n",
              "      <td>292</td>\n",
              "      <td>5.0</td>\n",
              "    </tr>\n",
              "    <tr>\n",
              "      <th>4</th>\n",
              "      <td>1</td>\n",
              "      <td>316</td>\n",
              "      <td>5.0</td>\n",
              "    </tr>\n",
              "    <tr>\n",
              "      <th>...</th>\n",
              "      <td>...</td>\n",
              "      <td>...</td>\n",
              "      <td>...</td>\n",
              "    </tr>\n",
              "    <tr>\n",
              "      <th>10000049</th>\n",
              "      <td>71567</td>\n",
              "      <td>2107</td>\n",
              "      <td>1.0</td>\n",
              "    </tr>\n",
              "    <tr>\n",
              "      <th>10000050</th>\n",
              "      <td>71567</td>\n",
              "      <td>2126</td>\n",
              "      <td>2.0</td>\n",
              "    </tr>\n",
              "    <tr>\n",
              "      <th>10000051</th>\n",
              "      <td>71567</td>\n",
              "      <td>2294</td>\n",
              "      <td>5.0</td>\n",
              "    </tr>\n",
              "    <tr>\n",
              "      <th>10000052</th>\n",
              "      <td>71567</td>\n",
              "      <td>2338</td>\n",
              "      <td>2.0</td>\n",
              "    </tr>\n",
              "    <tr>\n",
              "      <th>10000053</th>\n",
              "      <td>71567</td>\n",
              "      <td>2384</td>\n",
              "      <td>2.0</td>\n",
              "    </tr>\n",
              "  </tbody>\n",
              "</table>\n",
              "<p>2872939 rows × 3 columns</p>\n",
              "</div>\n",
              "      <button class=\"colab-df-convert\" onclick=\"convertToInteractive('df-4264323c-f0f1-4c20-89f7-00411b6b5202')\"\n",
              "              title=\"Convert this dataframe to an interactive table.\"\n",
              "              style=\"display:none;\">\n",
              "        \n",
              "  <svg xmlns=\"http://www.w3.org/2000/svg\" height=\"24px\"viewBox=\"0 0 24 24\"\n",
              "       width=\"24px\">\n",
              "    <path d=\"M0 0h24v24H0V0z\" fill=\"none\"/>\n",
              "    <path d=\"M18.56 5.44l.94 2.06.94-2.06 2.06-.94-2.06-.94-.94-2.06-.94 2.06-2.06.94zm-11 1L8.5 8.5l.94-2.06 2.06-.94-2.06-.94L8.5 2.5l-.94 2.06-2.06.94zm10 10l.94 2.06.94-2.06 2.06-.94-2.06-.94-.94-2.06-.94 2.06-2.06.94z\"/><path d=\"M17.41 7.96l-1.37-1.37c-.4-.4-.92-.59-1.43-.59-.52 0-1.04.2-1.43.59L10.3 9.45l-7.72 7.72c-.78.78-.78 2.05 0 2.83L4 21.41c.39.39.9.59 1.41.59.51 0 1.02-.2 1.41-.59l7.78-7.78 2.81-2.81c.8-.78.8-2.07 0-2.86zM5.41 20L4 18.59l7.72-7.72 1.47 1.35L5.41 20z\"/>\n",
              "  </svg>\n",
              "      </button>\n",
              "      \n",
              "  <style>\n",
              "    .colab-df-container {\n",
              "      display:flex;\n",
              "      flex-wrap:wrap;\n",
              "      gap: 12px;\n",
              "    }\n",
              "\n",
              "    .colab-df-convert {\n",
              "      background-color: #E8F0FE;\n",
              "      border: none;\n",
              "      border-radius: 50%;\n",
              "      cursor: pointer;\n",
              "      display: none;\n",
              "      fill: #1967D2;\n",
              "      height: 32px;\n",
              "      padding: 0 0 0 0;\n",
              "      width: 32px;\n",
              "    }\n",
              "\n",
              "    .colab-df-convert:hover {\n",
              "      background-color: #E2EBFA;\n",
              "      box-shadow: 0px 1px 2px rgba(60, 64, 67, 0.3), 0px 1px 3px 1px rgba(60, 64, 67, 0.15);\n",
              "      fill: #174EA6;\n",
              "    }\n",
              "\n",
              "    [theme=dark] .colab-df-convert {\n",
              "      background-color: #3B4455;\n",
              "      fill: #D2E3FC;\n",
              "    }\n",
              "\n",
              "    [theme=dark] .colab-df-convert:hover {\n",
              "      background-color: #434B5C;\n",
              "      box-shadow: 0px 1px 3px 1px rgba(0, 0, 0, 0.15);\n",
              "      filter: drop-shadow(0px 1px 2px rgba(0, 0, 0, 0.3));\n",
              "      fill: #FFFFFF;\n",
              "    }\n",
              "  </style>\n",
              "\n",
              "      <script>\n",
              "        const buttonEl =\n",
              "          document.querySelector('#df-4264323c-f0f1-4c20-89f7-00411b6b5202 button.colab-df-convert');\n",
              "        buttonEl.style.display =\n",
              "          google.colab.kernel.accessAllowed ? 'block' : 'none';\n",
              "\n",
              "        async function convertToInteractive(key) {\n",
              "          const element = document.querySelector('#df-4264323c-f0f1-4c20-89f7-00411b6b5202');\n",
              "          const dataTable =\n",
              "            await google.colab.kernel.invokeFunction('convertToInteractive',\n",
              "                                                     [key], {});\n",
              "          if (!dataTable) return;\n",
              "\n",
              "          const docLinkHtml = 'Like what you see? Visit the ' +\n",
              "            '<a target=\"_blank\" href=https://colab.research.google.com/notebooks/data_table.ipynb>data table notebook</a>'\n",
              "            + ' to learn more about interactive tables.';\n",
              "          element.innerHTML = '';\n",
              "          dataTable['output_type'] = 'display_data';\n",
              "          await google.colab.output.renderOutput(dataTable, element);\n",
              "          const docLink = document.createElement('div');\n",
              "          docLink.innerHTML = docLinkHtml;\n",
              "          element.appendChild(docLink);\n",
              "        }\n",
              "      </script>\n",
              "    </div>\n",
              "  </div>\n",
              "  "
            ],
            "text/plain": [
              "          userId  movieId  ratings\n",
              "0              1      122      5.0\n",
              "1              1      185      5.0\n",
              "2              1      231      5.0\n",
              "3              1      292      5.0\n",
              "4              1      316      5.0\n",
              "...          ...      ...      ...\n",
              "10000049   71567     2107      1.0\n",
              "10000050   71567     2126      2.0\n",
              "10000051   71567     2294      5.0\n",
              "10000052   71567     2338      2.0\n",
              "10000053   71567     2384      2.0\n",
              "\n",
              "[2872939 rows x 3 columns]"
            ]
          },
          "execution_count": 27,
          "metadata": {},
          "output_type": "execute_result"
        }
      ],
      "source": [
        "df"
      ]
    },
    {
      "cell_type": "code",
      "execution_count": null,
      "metadata": {
        "colab": {
          "base_uri": "https://localhost:8080/",
          "height": 423
        },
        "id": "CXoJe7Fvz7xi",
        "outputId": "d3004847-1d13-4e2b-b1dc-25853d386cf8"
      },
      "outputs": [
        {
          "data": {
            "text/html": [
              "\n",
              "  <div id=\"df-8e2f106c-4362-43aa-97d3-1780481d3098\">\n",
              "    <div class=\"colab-df-container\">\n",
              "      <div>\n",
              "<style scoped>\n",
              "    .dataframe tbody tr th:only-of-type {\n",
              "        vertical-align: middle;\n",
              "    }\n",
              "\n",
              "    .dataframe tbody tr th {\n",
              "        vertical-align: top;\n",
              "    }\n",
              "\n",
              "    .dataframe thead th {\n",
              "        text-align: right;\n",
              "    }\n",
              "</style>\n",
              "<table border=\"1\" class=\"dataframe\">\n",
              "  <thead>\n",
              "    <tr style=\"text-align: right;\">\n",
              "      <th></th>\n",
              "      <th>userId</th>\n",
              "      <th>movieId</th>\n",
              "      <th>ratings</th>\n",
              "    </tr>\n",
              "  </thead>\n",
              "  <tbody>\n",
              "    <tr>\n",
              "      <th>0</th>\n",
              "      <td>1</td>\n",
              "      <td>122</td>\n",
              "      <td>5.0</td>\n",
              "    </tr>\n",
              "    <tr>\n",
              "      <th>1</th>\n",
              "      <td>1</td>\n",
              "      <td>185</td>\n",
              "      <td>5.0</td>\n",
              "    </tr>\n",
              "    <tr>\n",
              "      <th>2</th>\n",
              "      <td>1</td>\n",
              "      <td>231</td>\n",
              "      <td>5.0</td>\n",
              "    </tr>\n",
              "    <tr>\n",
              "      <th>3</th>\n",
              "      <td>1</td>\n",
              "      <td>292</td>\n",
              "      <td>5.0</td>\n",
              "    </tr>\n",
              "    <tr>\n",
              "      <th>4</th>\n",
              "      <td>1</td>\n",
              "      <td>316</td>\n",
              "      <td>5.0</td>\n",
              "    </tr>\n",
              "    <tr>\n",
              "      <th>...</th>\n",
              "      <td>...</td>\n",
              "      <td>...</td>\n",
              "      <td>...</td>\n",
              "    </tr>\n",
              "    <tr>\n",
              "      <th>3616127</th>\n",
              "      <td>25999</td>\n",
              "      <td>1304</td>\n",
              "      <td>4.0</td>\n",
              "    </tr>\n",
              "    <tr>\n",
              "      <th>3616130</th>\n",
              "      <td>25999</td>\n",
              "      <td>1370</td>\n",
              "      <td>4.0</td>\n",
              "    </tr>\n",
              "    <tr>\n",
              "      <th>3616131</th>\n",
              "      <td>25999</td>\n",
              "      <td>1371</td>\n",
              "      <td>3.0</td>\n",
              "    </tr>\n",
              "    <tr>\n",
              "      <th>3616132</th>\n",
              "      <td>25999</td>\n",
              "      <td>1372</td>\n",
              "      <td>3.0</td>\n",
              "    </tr>\n",
              "    <tr>\n",
              "      <th>3616137</th>\n",
              "      <td>25999</td>\n",
              "      <td>1385</td>\n",
              "      <td>3.0</td>\n",
              "    </tr>\n",
              "  </tbody>\n",
              "</table>\n",
              "<p>1037935 rows × 3 columns</p>\n",
              "</div>\n",
              "      <button class=\"colab-df-convert\" onclick=\"convertToInteractive('df-8e2f106c-4362-43aa-97d3-1780481d3098')\"\n",
              "              title=\"Convert this dataframe to an interactive table.\"\n",
              "              style=\"display:none;\">\n",
              "        \n",
              "  <svg xmlns=\"http://www.w3.org/2000/svg\" height=\"24px\"viewBox=\"0 0 24 24\"\n",
              "       width=\"24px\">\n",
              "    <path d=\"M0 0h24v24H0V0z\" fill=\"none\"/>\n",
              "    <path d=\"M18.56 5.44l.94 2.06.94-2.06 2.06-.94-2.06-.94-.94-2.06-.94 2.06-2.06.94zm-11 1L8.5 8.5l.94-2.06 2.06-.94-2.06-.94L8.5 2.5l-.94 2.06-2.06.94zm10 10l.94 2.06.94-2.06 2.06-.94-2.06-.94-.94-2.06-.94 2.06-2.06.94z\"/><path d=\"M17.41 7.96l-1.37-1.37c-.4-.4-.92-.59-1.43-.59-.52 0-1.04.2-1.43.59L10.3 9.45l-7.72 7.72c-.78.78-.78 2.05 0 2.83L4 21.41c.39.39.9.59 1.41.59.51 0 1.02-.2 1.41-.59l7.78-7.78 2.81-2.81c.8-.78.8-2.07 0-2.86zM5.41 20L4 18.59l7.72-7.72 1.47 1.35L5.41 20z\"/>\n",
              "  </svg>\n",
              "      </button>\n",
              "      \n",
              "  <style>\n",
              "    .colab-df-container {\n",
              "      display:flex;\n",
              "      flex-wrap:wrap;\n",
              "      gap: 12px;\n",
              "    }\n",
              "\n",
              "    .colab-df-convert {\n",
              "      background-color: #E8F0FE;\n",
              "      border: none;\n",
              "      border-radius: 50%;\n",
              "      cursor: pointer;\n",
              "      display: none;\n",
              "      fill: #1967D2;\n",
              "      height: 32px;\n",
              "      padding: 0 0 0 0;\n",
              "      width: 32px;\n",
              "    }\n",
              "\n",
              "    .colab-df-convert:hover {\n",
              "      background-color: #E2EBFA;\n",
              "      box-shadow: 0px 1px 2px rgba(60, 64, 67, 0.3), 0px 1px 3px 1px rgba(60, 64, 67, 0.15);\n",
              "      fill: #174EA6;\n",
              "    }\n",
              "\n",
              "    [theme=dark] .colab-df-convert {\n",
              "      background-color: #3B4455;\n",
              "      fill: #D2E3FC;\n",
              "    }\n",
              "\n",
              "    [theme=dark] .colab-df-convert:hover {\n",
              "      background-color: #434B5C;\n",
              "      box-shadow: 0px 1px 3px 1px rgba(0, 0, 0, 0.15);\n",
              "      filter: drop-shadow(0px 1px 2px rgba(0, 0, 0, 0.3));\n",
              "      fill: #FFFFFF;\n",
              "    }\n",
              "  </style>\n",
              "\n",
              "      <script>\n",
              "        const buttonEl =\n",
              "          document.querySelector('#df-8e2f106c-4362-43aa-97d3-1780481d3098 button.colab-df-convert');\n",
              "        buttonEl.style.display =\n",
              "          google.colab.kernel.accessAllowed ? 'block' : 'none';\n",
              "\n",
              "        async function convertToInteractive(key) {\n",
              "          const element = document.querySelector('#df-8e2f106c-4362-43aa-97d3-1780481d3098');\n",
              "          const dataTable =\n",
              "            await google.colab.kernel.invokeFunction('convertToInteractive',\n",
              "                                                     [key], {});\n",
              "          if (!dataTable) return;\n",
              "\n",
              "          const docLinkHtml = 'Like what you see? Visit the ' +\n",
              "            '<a target=\"_blank\" href=https://colab.research.google.com/notebooks/data_table.ipynb>data table notebook</a>'\n",
              "            + ' to learn more about interactive tables.';\n",
              "          element.innerHTML = '';\n",
              "          dataTable['output_type'] = 'display_data';\n",
              "          await google.colab.output.renderOutput(dataTable, element);\n",
              "          const docLink = document.createElement('div');\n",
              "          docLink.innerHTML = docLinkHtml;\n",
              "          element.appendChild(docLink);\n",
              "        }\n",
              "      </script>\n",
              "    </div>\n",
              "  </div>\n",
              "  "
            ],
            "text/plain": [
              "         userId  movieId  ratings\n",
              "0             1      122      5.0\n",
              "1             1      185      5.0\n",
              "2             1      231      5.0\n",
              "3             1      292      5.0\n",
              "4             1      316      5.0\n",
              "...         ...      ...      ...\n",
              "3616127   25999     1304      4.0\n",
              "3616130   25999     1370      4.0\n",
              "3616131   25999     1371      3.0\n",
              "3616132   25999     1372      3.0\n",
              "3616137   25999     1385      3.0\n",
              "\n",
              "[1037935 rows x 3 columns]"
            ]
          },
          "execution_count": 28,
          "metadata": {},
          "output_type": "execute_result"
        }
      ],
      "source": [
        "df[df.userId<26000]"
      ]
    },
    {
      "cell_type": "code",
      "execution_count": null,
      "metadata": {
        "id": "Rd-GNqQvplY8"
      },
      "outputs": [],
      "source": [
        "df[df.userId<26000].to_csv(\"10M_Ratings_After_Preprocess.dat\",sep = \"|\",header=False)"
      ]
    },
    {
      "cell_type": "code",
      "execution_count": null,
      "metadata": {
        "id": "in2e-Yjc0nVv"
      },
      "outputs": [],
      "source": [
        "ratings_data=sc.textFile(\"/content/10M_Ratings_After_Preprocess.dat\")\n",
        "ratings=ratings_data.map(lambda line: line.split(\"|\")).map(lambda tokens: (int(tokens[1]),int(tokens[2]),float(tokens[3])))"
      ]
    },
    {
      "cell_type": "code",
      "execution_count": null,
      "metadata": {
        "colab": {
          "background_save": true
        },
        "id": "nV8QVHh99uD1",
        "outputId": "737d7214-6d82-412d-9997-b43d878a7fbb"
      },
      "outputs": [],
      "source": [
        "train, test = ratings.randomSplit([7, 3], seed=0)\n",
        "train_for_prdict=train.map(lambda x: ((x[0],x[1]),x[2]))\n",
        "test_for_predict=test.map(lambda x: (x[0], x[1]))\n",
        "seed = 1\n",
        "iterations = [20]\n",
        "regularization_parameters = [0.1]\n",
        "ranks = [3]\n",
        "MAE_err=[]\n",
        "for iteration in iterations:\n",
        "  for rank in ranks:\n",
        "    for regularization_parameter in regularization_parameters:\n",
        "      model = ALS.train(train, rank=rank, seed=seed, iterations=iteration,lambda_=regularization_parameter)\n",
        "      predictions = model.predictAll(test_for_predict)\n",
        "      rates_and_preds = test.map(lambda r: ((int(r[0]), int(r[1])), float(r[2]))).join(predictions.map(lambda r: ((r[0], r[1]), r[2])))\n",
        "\n",
        "      MAE_error = rates_and_preds.map(lambda r: np.abs(r[1][0] - r[1][1])).sum()/len(rates_and_preds.collect())\n",
        "      MAE_err.append(MAE_error)\n",
        "      print('(iterations %s, rank %s, lambda %s): The MAE is %s' % (iteration,rank,regularization_parameter,MAE_error))\n"
      ]
    }
  ],
  "metadata": {
    "colab": {
      "collapsed_sections": [
        "5Sj8it9iQYWD"
      ],
      "name": "Bản Run code Lab01.ipynb",
      "provenance": []
    },
    "kernelspec": {
      "display_name": "Python 3",
      "name": "python3"
    },
    "language_info": {
      "name": "python"
    }
  },
  "nbformat": 4,
  "nbformat_minor": 0
}
